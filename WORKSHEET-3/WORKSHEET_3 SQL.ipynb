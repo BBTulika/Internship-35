{
 "cells": [
  {
   "cell_type": "code",
   "execution_count": 10,
   "id": "32dd64d4",
   "metadata": {},
   "outputs": [],
   "source": [
    "import sqlite3"
   ]
  },
  {
   "cell_type": "code",
   "execution_count": 11,
   "id": "a91f0655",
   "metadata": {},
   "outputs": [],
   "source": [
    "db = sqlite3.connect(\"sql_worksheet.db\")"
   ]
  },
  {
   "cell_type": "code",
   "execution_count": 12,
   "id": "a98e107d",
   "metadata": {},
   "outputs": [],
   "source": [
    "cursor = db.cursor()"
   ]
  },
  {
   "cell_type": "code",
   "execution_count": 16,
   "id": "c5e439ca",
   "metadata": {},
   "outputs": [
    {
     "data": {
      "text/plain": [
       "<sqlite3.Cursor at 0x223e4f85260>"
      ]
     },
     "execution_count": 16,
     "metadata": {},
     "output_type": "execute_result"
    }
   ],
   "source": [
    "cursor.execute(\"CREATE TABLE Customers1 (customerNumber INT PRIMARY KEY, customerName TEXT,contactLastName TEXT,contactfirstName TEXT,phone INT, addressLine1 TEXT, addressLine2 TEXT, city TEXT, state TEXT, postalCode INT, country TEXT, salesRepEmployeeNumber INT, creditLimit INT )\")"
   ]
  },
  {
   "cell_type": "code",
   "execution_count": 18,
   "id": "796f8b28",
   "metadata": {
    "scrolled": true
   },
   "outputs": [
    {
     "data": {
      "text/plain": [
       "<sqlite3.Cursor at 0x223e4f85260>"
      ]
     },
     "execution_count": 18,
     "metadata": {},
     "output_type": "execute_result"
    }
   ],
   "source": [
    "cursor.execute(\"CREATE TABLE Orders1 (orderNumber INT PRIMARY KEY, orderDate INT, requiredDate INT, shippedDate INT, status TEXT, comments TEXT, customerNumber INT) \")"
   ]
  },
  {
   "cell_type": "code",
   "execution_count": 19,
   "id": "fb855271",
   "metadata": {},
   "outputs": [],
   "source": [
    "db.commit()"
   ]
  },
  {
   "cell_type": "code",
   "execution_count": 20,
   "id": "7974fa35",
   "metadata": {},
   "outputs": [],
   "source": [
    "results = cursor.execute(\"SELECT * FROM Orders\")\n",
    "for row in results:\n",
    "    print(row)"
   ]
  },
  {
   "cell_type": "code",
   "execution_count": 21,
   "id": "d7950ec1",
   "metadata": {},
   "outputs": [
    {
     "data": {
      "text/plain": [
       "<sqlite3.Cursor at 0x223e4f85260>"
      ]
     },
     "execution_count": 21,
     "metadata": {},
     "output_type": "execute_result"
    }
   ],
   "source": [
    "results"
   ]
  },
  {
   "cell_type": "markdown",
   "id": "43dd9543",
   "metadata": {},
   "source": []
  },
  {
   "cell_type": "code",
   "execution_count": 33,
   "id": "e3ab73ea",
   "metadata": {},
   "outputs": [
    {
     "data": {
      "text/plain": [
       "<sqlite3.Cursor at 0x223e4f85260>"
      ]
     },
     "execution_count": 33,
     "metadata": {},
     "output_type": "execute_result"
    }
   ],
   "source": [
    "cursor.execute(\"INSERT INTO Customers1 (customerNumber,customerName,contactLastName,contactFirstName,phone,addressLine1,addressLine2,city,state,postalCode,country,salesRepEmployeeNumber,creditLimit)VALUES(112,'yogesh bhonde','bhonde','geeta',9988112233,'prasad nagar','ringroad','pune','MH',440056,'India',501,1000)\")"
   ]
  },
  {
   "cell_type": "code",
   "execution_count": 34,
   "id": "d9abcc86",
   "metadata": {},
   "outputs": [],
   "source": [
    "db.commit()"
   ]
  },
  {
   "cell_type": "code",
   "execution_count": 36,
   "id": "dd509c8a",
   "metadata": {},
   "outputs": [
    {
     "name": "stdout",
     "output_type": "stream",
     "text": [
      "1 Record(s) Inserted\n"
     ]
    }
   ],
   "source": [
    "print(cursor.rowcount, \"Record(s) Inserted\")"
   ]
  },
  {
   "cell_type": "code",
   "execution_count": 56,
   "id": "5bd28435",
   "metadata": {},
   "outputs": [
    {
     "data": {
      "text/plain": [
       "<sqlite3.Cursor at 0x223e4f85260>"
      ]
     },
     "execution_count": 56,
     "metadata": {},
     "output_type": "execute_result"
    }
   ],
   "source": [
    "cursor.execute(\"INSERT INTO Orders(orderNumber,orderDate,requiredDate,shippedDate,status,comments,customerNumber) VALUES( 2347,12/03/2020,'15/03/2020','13/03/2020','shipped','dispatched',112)\")"
   ]
  },
  {
   "cell_type": "code",
   "execution_count": 57,
   "id": "6ba99cf0",
   "metadata": {},
   "outputs": [],
   "source": [
    "db.commit()"
   ]
  },
  {
   "cell_type": "code",
   "execution_count": 58,
   "id": "6ca7e889",
   "metadata": {},
   "outputs": [
    {
     "name": "stdout",
     "output_type": "stream",
     "text": [
      "1 record(s) Inserted\n"
     ]
    }
   ],
   "source": [
    "print(cursor.rowcount,\"record(s) Inserted\")"
   ]
  },
  {
   "cell_type": "code",
   "execution_count": 59,
   "id": "a402cc14",
   "metadata": {},
   "outputs": [
    {
     "name": "stdout",
     "output_type": "stream",
     "text": [
      "(2345, 0, 0, 0, 'shipped', 'dispatched', 112)\n",
      "(2347, 0, '15/03/2020', '13/03/2020', 'shipped', 'dispatched', 112)\n"
     ]
    }
   ],
   "source": [
    "results = cursor.execute(\"SELECT * FROM Orders\")\n",
    "for row in results:\n",
    "    print(row)"
   ]
  },
  {
   "cell_type": "code",
   "execution_count": 60,
   "id": "7135ab16",
   "metadata": {},
   "outputs": [
    {
     "name": "stdout",
     "output_type": "stream",
     "text": [
      "(2345, 0, 0, 0, 'shipped', 'dispatched', 112)\n",
      "(2347, 0, '15/03/2020', '13/03/2020', 'shipped', 'dispatched', 112)\n"
     ]
    }
   ],
   "source": [
    "sql = \"SELECT * FROM Orders WHERE comments = 'dispatched' \"\n",
    "result = cursor.execute(sql)\n",
    "for row in result: \n",
    "    print(row)"
   ]
  },
  {
   "cell_type": "code",
   "execution_count": 61,
   "id": "96017569",
   "metadata": {},
   "outputs": [
    {
     "name": "stdout",
     "output_type": "stream",
     "text": [
      "(2345, 0, 0, 0, 'shipped', 'dispatched', 112)\n",
      "(2347, 0, '15/03/2020', '13/03/2020', 'shipped', 'dispatched', 112)\n"
     ]
    }
   ],
   "source": [
    "sql = \"SELECT * FROM Orders WHERE orderDate = 12/03/2020 \"\n",
    "result = cursor.execute(sql)\n",
    "for row in result:\n",
    "    print(row)"
   ]
  },
  {
   "cell_type": "code",
   "execution_count": 64,
   "id": "1b20297f",
   "metadata": {},
   "outputs": [
    {
     "data": {
      "text/plain": [
       "<sqlite3.Cursor at 0x223e4f85260>"
      ]
     },
     "execution_count": 64,
     "metadata": {},
     "output_type": "execute_result"
    }
   ],
   "source": [
    "cursor.execute (\"CREATE TABLE employees1(employeeNumber INT PRIMARY KEY,lastname TEXT,firstName TEXT,extension INT,email TEXT, officeCode TEXT, reportsTo TEXT, jobTitle TEXT) \")"
   ]
  },
  {
   "cell_type": "code",
   "execution_count": 65,
   "id": "b62d4112",
   "metadata": {},
   "outputs": [
    {
     "data": {
      "text/plain": [
       "<sqlite3.Cursor at 0x223e4f85260>"
      ]
     },
     "execution_count": 65,
     "metadata": {},
     "output_type": "execute_result"
    }
   ],
   "source": [
    "cursor.execute(\"INSERT INTO employees1(employeeNumber,lastName,firstName,extension,email,officeCode,reportsTo,jobTitle) VALUES (601,'raj','prakash',22,'prakash.raj@gmail.com','DEL23','Sangita Meshram','Assistant')\")"
   ]
  },
  {
   "cell_type": "code",
   "execution_count": 66,
   "id": "8826c09d",
   "metadata": {},
   "outputs": [],
   "source": [
    "db.commit()"
   ]
  },
  {
   "cell_type": "code",
   "execution_count": 67,
   "id": "399d1157",
   "metadata": {},
   "outputs": [
    {
     "name": "stdout",
     "output_type": "stream",
     "text": [
      "1 record(s) Inserted\n"
     ]
    }
   ],
   "source": [
    "print(cursor.rowcount,\"record(s) Inserted\")"
   ]
  },
  {
   "cell_type": "code",
   "execution_count": 68,
   "id": "7f9c1028",
   "metadata": {},
   "outputs": [
    {
     "name": "stdout",
     "output_type": "stream",
     "text": [
      "(601, 'raj', 'prakash', 22, 'prakash.raj@gmail.com', 'DEL23', 'Sangita Meshram', 'Assistant')\n"
     ]
    }
   ],
   "source": [
    "results = cursor.execute(\"SELECT * FROM employees1 \")\n",
    "for row in results:\n",
    "    print(row)"
   ]
  },
  {
   "cell_type": "code",
   "execution_count": 72,
   "id": "cc9e5258",
   "metadata": {},
   "outputs": [
    {
     "name": "stdout",
     "output_type": "stream",
     "text": [
      "(601, 'raj', 'prakash')\n"
     ]
    }
   ],
   "source": [
    "sql = \"SELECT employeeNumber,lastname,firstName FROM employees1\"\n",
    "result = cursor.execute(sql)\n",
    "for row in results:\n",
    "    print(row)"
   ]
  },
  {
   "cell_type": "code",
   "execution_count": null,
   "id": "5f2204a5",
   "metadata": {},
   "outputs": [],
   "source": []
  }
 ],
 "metadata": {
  "kernelspec": {
   "display_name": "Python 3 (ipykernel)",
   "language": "python",
   "name": "python3"
  },
  "language_info": {
   "codemirror_mode": {
    "name": "ipython",
    "version": 3
   },
   "file_extension": ".py",
   "mimetype": "text/x-python",
   "name": "python",
   "nbconvert_exporter": "python",
   "pygments_lexer": "ipython3",
   "version": "3.9.12"
  }
 },
 "nbformat": 4,
 "nbformat_minor": 5
}
